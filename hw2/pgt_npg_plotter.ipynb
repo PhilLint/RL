{
 "cells": [
  {
   "cell_type": "markdown",
   "metadata": {
    "deletable": false,
    "editable": false,
    "nbgrader": {
     "checksum": "622dd652a24323823b19f07a503c53e7",
     "grade": false,
     "grade_id": "cell-45d8b7fdbef45738",
     "locked": true,
     "schema_version": 1,
     "solution": false
    }
   },
   "source": [
    "# Plot code for VPG and NPG exercises"
   ]
  },
  {
   "cell_type": "code",
   "execution_count": 1,
   "metadata": {
    "deletable": false,
    "editable": false,
    "nbgrader": {
     "checksum": "15a893145e2d8df35b1b77d1f7629e22",
     "grade": false,
     "grade_id": "cell-9b4449e2a25ae348",
     "locked": true,
     "schema_version": 1,
     "solution": false
    }
   },
   "outputs": [],
   "source": [
    "# Imports\n",
    "import torch\n",
    "from matplotlib import pyplot as plt\n",
    "from matplotlib import patches"
   ]
  },
  {
   "cell_type": "code",
   "execution_count": 2,
   "metadata": {},
   "outputs": [],
   "source": [
    "# Constants\n",
    "MU_MAX = 1.25\n",
    "MU_MIN = -0.25\n",
    "SIGMA_MIN = 0.0001\n",
    "SIGMA_MAX = 1\n",
    "PLOT_Y_EXCESS = 0.025\n",
    "PLOT_X_EXCESS = 0.05\n",
    "\n",
    "ARROW_WIDTH = 0.007\n",
    "ARROW_SCALE = 20\n",
    "ARROWS_PER_DIM = 11\n",
    "\n",
    "CONTOUR_POINTS = 50\n",
    "CONTOUR_LEVELS = 100\n",
    "\n",
    "K_VALUES = [0.1, 1, 10]"
   ]
  },
  {
   "cell_type": "markdown",
   "metadata": {
    "deletable": false,
    "editable": false,
    "nbgrader": {
     "checksum": "f64a1d5fbb806fd83210db6d6b6bcdd0",
     "grade": false,
     "grade_id": "cell-20e128bc936e5e7f",
     "locked": true,
     "schema_version": 1,
     "solution": false
    }
   },
   "source": [
    "## Info\n",
    "This code will allow you to generate nice plots that you can use to compare VPG and NPG. Inspect the code (you do not have to understand every detail). You will need to implement two methods which calculate gradients (*simple_grad*, *natural_grad*) . These are used in *plot_normalized_grads* function. Additionally, you need to implement *expected_reward* function which is used in *plot_contour*."
   ]
  },
  {
   "cell_type": "code",
   "execution_count": 3,
   "metadata": {
    "deletable": false,
    "editable": false,
    "nbgrader": {
     "checksum": "67e06e9699f36747e405797c45f26489",
     "grade": false,
     "grade_id": "cell-d548ebbf768ec956",
     "locked": true,
     "schema_version": 1,
     "solution": false
    }
   },
   "outputs": [],
   "source": [
    "def plot_contour(ax, k):\n",
    "    \"\"\"\n",
    "    Plots contour the color of which corresponds to expected reward\n",
    "    :param ax: Ax used for plotting\n",
    "    :param k: Hyperparameter k\n",
    "    \"\"\"\n",
    "    \n",
    "    # Create meshgrids for plotting \n",
    "    mu_grid, sigma_grid = torch.meshgrid(torch.linspace(MU_MIN - PLOT_X_EXCESS,\n",
    "                                                        MU_MAX + PLOT_X_EXCESS,\n",
    "                                                        CONTOUR_POINTS),\n",
    "                                         torch.linspace(SIGMA_MIN - PLOT_Y_EXCESS, \n",
    "                                                        SIGMA_MAX + PLOT_Y_EXCESS,\n",
    "                                                        CONTOUR_POINTS))\n",
    "    \n",
    "    # Transform from distribution parameters to theta parameters\n",
    "    theta_mu = mu_grid\n",
    "    theta_sigma = sigma_grid / k\n",
    "    \n",
    "    # Get expected rewards for all parameter combinations\n",
    "    r = expected_reward(theta_mu, theta_sigma, k)\n",
    "    ax.contourf(mu_grid, sigma_grid, r, levels=torch.linspace(torch.min(r),torch.max(r), CONTOUR_LEVELS))"
   ]
  },
  {
   "cell_type": "code",
   "execution_count": 4,
   "metadata": {
    "deletable": false,
    "editable": false,
    "nbgrader": {
     "checksum": "71f968a097a33f078a3d829db478cd7a",
     "grade": false,
     "grade_id": "cell-adb5ddc047e6e58d",
     "locked": true,
     "schema_version": 1,
     "solution": false
    }
   },
   "outputs": [],
   "source": [
    "def plot_normalized_grads(ax, grad_function, k):\n",
    "    \"\"\"\n",
    "    Plots the direction of gradients (gradients are normalized to unit length)\n",
    "    :param ax: ax used for plotting\n",
    "    :param grad_function: a function that is used to calculate the gradient\n",
    "    :param k: hyperparameter k\n",
    "    \"\"\"\n",
    "    # Create meshgrids to get all combinations of params\n",
    "    mu_grid, sigma_grid = torch.meshgrid(torch.linspace(MU_MIN, MU_MAX, ARROWS_PER_DIM),\n",
    "                                         torch.linspace(SIGMA_MIN, SIGMA_MAX, ARROWS_PER_DIM))\n",
    "    \n",
    "    # Flatten to make grad calculation easier\n",
    "    mus = mu_grid.contiguous().view(-1,1)\n",
    "    sigmas = sigma_grid.contiguous().view(-1,1)\n",
    "    \n",
    "    # Transform from distribution parameters to theta parameters\n",
    "    theta_mu = mus\n",
    "    theta_sigma = sigmas / k\n",
    "    \n",
    "    # Calculate gradients\n",
    "    g = grad_function(mu_params=theta_mu, sigma_params=theta_sigma, k=k)\n",
    "    \n",
    "    # Transform change wrt. theta_sigma to sigma dimension\n",
    "    g[:, 1] = g[:, 1] * k\n",
    "    \n",
    "    # Normalize gradient\n",
    "    g = g / g.norm(dim=1, keepdim=True)\n",
    "    ax.quiver(mus, sigmas, g[:, 0], g[:, 1], scale=ARROW_SCALE, width=ARROW_WIDTH)"
   ]
  },
  {
   "cell_type": "code",
   "execution_count": 5,
   "metadata": {
    "deletable": false,
    "editable": false,
    "nbgrader": {
     "checksum": "f3cc242eea943f4b33715deaf6d31a55",
     "grade": false,
     "grade_id": "cell-ec0454b98637220d",
     "locked": true,
     "schema_version": 1,
     "solution": false
    }
   },
   "outputs": [],
   "source": [
    "def create_plot(fig, plot_npg=False):\n",
    "    \"\"\"\n",
    "    Creates plot with VPG (and optionally NPG) gradients\n",
    "    :param fig: figure used for plotting\n",
    "    :param plot_npg: if set to true also adds NPG gradients to the plot\n",
    "    \"\"\"\n",
    "    n_k_values = len(K_VALUES)\n",
    "    \n",
    "    for i in range(1 + plot_npg):\n",
    "        for j in range(n_k_values):\n",
    "            ax = fig.add_subplot(1 + plot_npg, n_k_values, i * n_k_values + j + 1)\n",
    "            \n",
    "            # Set up ax and grad function\n",
    "            if i == 0:\n",
    "                ax.set_title(\"Vanilla policy grad k={}\".format(K_VALUES[j]))\n",
    "                grad_function = simple_grad\n",
    "            else:\n",
    "                ax.set_title(\"Natural policy grad k={}\".format(K_VALUES[j]))\n",
    "                grad_function = natural_grad\n",
    "            ax.set_xlabel(\"Mu\")\n",
    "            ax.set_ylabel(\"Sigma\")\n",
    "            ax.set_aspect(1)\n",
    "            ax.set_ylim(SIGMA_MIN-PLOT_Y_EXCESS, SIGMA_MAX + PLOT_Y_EXCESS)\n",
    "            ax.set_xlim(MU_MIN - PLOT_X_EXCESS, MU_MAX + PLOT_X_EXCESS)\n",
    "            \n",
    "            plot_contour(ax=ax, k=K_VALUES[j])\n",
    "            plot_normalized_grads(ax=ax, grad_function=grad_function, k=K_VALUES[j])"
   ]
  },
  {
   "cell_type": "markdown",
   "metadata": {
    "deletable": false,
    "editable": false,
    "nbgrader": {
     "checksum": "867b2f184aa05ebdee2b6a0f1f690201",
     "grade": false,
     "grade_id": "cell-e6e1b8599062b373",
     "locked": true,
     "schema_version": 1,
     "solution": false
    }
   },
   "source": [
    "## Implementation\n",
    "Use results from the exercise and implement functions that calculate both gradients as well as expected reward."
   ]
  },
  {
   "cell_type": "code",
   "execution_count": 6,
   "metadata": {
    "deletable": false,
    "nbgrader": {
     "checksum": "3b6fe7d9e2ab04ca765efcbb7fca7841",
     "grade": false,
     "grade_id": "cell-32e68e3a11f102c2",
     "locked": false,
     "schema_version": 1,
     "solution": true
    }
   },
   "outputs": [],
   "source": [
    "def simple_grad(mu_params, sigma_params, k):\n",
    "    \"\"\"\n",
    "    Calculates VPG using parameters mu and sigma and hyperparameter k \n",
    "    :param mu_params: tensor (Mx1) with mu parameters\n",
    "    :param sigma_params: tensor (Mx1) with sigma parameters\n",
    "    :param k: Hyperparameter k\n",
    "    :returns: tensor (Mx2) with gradients wrt. mu and sigma\n",
    "    \"\"\"\n",
    "    # YOUR CODE HERE\n",
    "    raise NotImplementedError()\n",
    "\n",
    "def natural_grad(mu_params, sigma_params, k):\n",
    "    \"\"\"\n",
    "    Calculates NPG using parameters mu and sigma and hyperparameter k \n",
    "    :param mu_params: tensor (Mx1) with mu parameters\n",
    "    :param sigma_params: tensor (Mx1) with sigma parameters\n",
    "    :param k: Hyperparameter k\n",
    "    :returns: tensor (Mx2) with gradients wrt. mu and sigma\n",
    "    \"\"\"\n",
    "    # YOUR CODE HERE\n",
    "    raise NotImplementedError()\n",
    "\n",
    "def expected_reward(mu_params, sigma_params, k):\n",
    "    \"\"\"\n",
    "    Calculates exewcted reward using parameters mu and sigma and hyperparameter k \n",
    "    :param mu_params: tensor (Mx1) with mu parameters\n",
    "    :param sigma_params: tensor (Mx1) with sigma parameters\n",
    "    :param k: Hyperparameter k\n",
    "    :returns: tensor (Mx1) with expected rewards\n",
    "    \"\"\"\n",
    "    # YOUR CODE HERE\n",
    "    raise NotImplementedError()"
   ]
  },
  {
   "cell_type": "markdown",
   "metadata": {
    "deletable": false,
    "editable": false,
    "nbgrader": {
     "checksum": "7988d7eee36f8d93b9572696efa2727b",
     "grade": false,
     "grade_id": "cell-1d371cea619c3d6a",
     "locked": true,
     "schema_version": 1,
     "solution": false
    }
   },
   "source": [
    "## Create plots"
   ]
  },
  {
   "cell_type": "code",
   "execution_count": 7,
   "metadata": {},
   "outputs": [
    {
     "ename": "NotImplementedError",
     "evalue": "",
     "output_type": "error",
     "traceback": [
      "\u001b[1;31m---------------------------------------------------------------------------\u001b[0m",
      "\u001b[1;31mNotImplementedError\u001b[0m                       Traceback (most recent call last)",
      "\u001b[1;32m<ipython-input-7-30e2c2960e04>\u001b[0m in \u001b[0;36m<module>\u001b[1;34m\u001b[0m\n\u001b[0;32m      1\u001b[0m \u001b[1;31m# Create VPG plot\u001b[0m\u001b[1;33m\u001b[0m\u001b[1;33m\u001b[0m\u001b[1;33m\u001b[0m\u001b[0m\n\u001b[0;32m      2\u001b[0m \u001b[0mfig\u001b[0m \u001b[1;33m=\u001b[0m \u001b[0mplt\u001b[0m\u001b[1;33m.\u001b[0m\u001b[0mfigure\u001b[0m\u001b[1;33m(\u001b[0m\u001b[0mfigsize\u001b[0m\u001b[1;33m=\u001b[0m\u001b[1;33m(\u001b[0m\u001b[1;36m16\u001b[0m\u001b[1;33m,\u001b[0m \u001b[1;36m9\u001b[0m\u001b[1;33m)\u001b[0m\u001b[1;33m)\u001b[0m\u001b[1;33m\u001b[0m\u001b[1;33m\u001b[0m\u001b[0m\n\u001b[1;32m----> 3\u001b[1;33m \u001b[0mcreate_plot\u001b[0m\u001b[1;33m(\u001b[0m\u001b[0mfig\u001b[0m\u001b[1;33m,\u001b[0m \u001b[0mplot_npg\u001b[0m\u001b[1;33m=\u001b[0m\u001b[1;32mFalse\u001b[0m\u001b[1;33m)\u001b[0m\u001b[1;33m\u001b[0m\u001b[1;33m\u001b[0m\u001b[0m\n\u001b[0m\u001b[0;32m      4\u001b[0m \u001b[0mfig\u001b[0m\u001b[1;33m.\u001b[0m\u001b[0mtight_layout\u001b[0m\u001b[1;33m(\u001b[0m\u001b[1;33m)\u001b[0m\u001b[1;33m\u001b[0m\u001b[1;33m\u001b[0m\u001b[0m\n\u001b[0;32m      5\u001b[0m \u001b[0mfig\u001b[0m\u001b[1;33m.\u001b[0m\u001b[0msavefig\u001b[0m\u001b[1;33m(\u001b[0m\u001b[1;34m\"vpg_plot.pdf\"\u001b[0m\u001b[1;33m,\u001b[0m \u001b[0mdpi\u001b[0m\u001b[1;33m=\u001b[0m\u001b[1;36m400\u001b[0m\u001b[1;33m,\u001b[0m \u001b[0mbbox_inches\u001b[0m\u001b[1;33m=\u001b[0m\u001b[1;34m'tight'\u001b[0m\u001b[1;33m)\u001b[0m\u001b[1;33m\u001b[0m\u001b[1;33m\u001b[0m\u001b[0m\n",
      "\u001b[1;32m<ipython-input-5-f53d7d8513eb>\u001b[0m in \u001b[0;36mcreate_plot\u001b[1;34m(fig, plot_npg)\u001b[0m\n\u001b[0;32m     24\u001b[0m             \u001b[0max\u001b[0m\u001b[1;33m.\u001b[0m\u001b[0mset_xlim\u001b[0m\u001b[1;33m(\u001b[0m\u001b[0mMU_MIN\u001b[0m \u001b[1;33m-\u001b[0m \u001b[0mPLOT_X_EXCESS\u001b[0m\u001b[1;33m,\u001b[0m \u001b[0mMU_MAX\u001b[0m \u001b[1;33m+\u001b[0m \u001b[0mPLOT_X_EXCESS\u001b[0m\u001b[1;33m)\u001b[0m\u001b[1;33m\u001b[0m\u001b[1;33m\u001b[0m\u001b[0m\n\u001b[0;32m     25\u001b[0m \u001b[1;33m\u001b[0m\u001b[0m\n\u001b[1;32m---> 26\u001b[1;33m             \u001b[0mplot_contour\u001b[0m\u001b[1;33m(\u001b[0m\u001b[0max\u001b[0m\u001b[1;33m=\u001b[0m\u001b[0max\u001b[0m\u001b[1;33m,\u001b[0m \u001b[0mk\u001b[0m\u001b[1;33m=\u001b[0m\u001b[0mK_VALUES\u001b[0m\u001b[1;33m[\u001b[0m\u001b[0mj\u001b[0m\u001b[1;33m]\u001b[0m\u001b[1;33m)\u001b[0m\u001b[1;33m\u001b[0m\u001b[1;33m\u001b[0m\u001b[0m\n\u001b[0m\u001b[0;32m     27\u001b[0m             \u001b[0mplot_normalized_grads\u001b[0m\u001b[1;33m(\u001b[0m\u001b[0max\u001b[0m\u001b[1;33m=\u001b[0m\u001b[0max\u001b[0m\u001b[1;33m,\u001b[0m \u001b[0mgrad_function\u001b[0m\u001b[1;33m=\u001b[0m\u001b[0mgrad_function\u001b[0m\u001b[1;33m,\u001b[0m \u001b[0mk\u001b[0m\u001b[1;33m=\u001b[0m\u001b[0mK_VALUES\u001b[0m\u001b[1;33m[\u001b[0m\u001b[0mj\u001b[0m\u001b[1;33m]\u001b[0m\u001b[1;33m)\u001b[0m\u001b[1;33m\u001b[0m\u001b[1;33m\u001b[0m\u001b[0m\n",
      "\u001b[1;32m<ipython-input-3-83d0cbf52148>\u001b[0m in \u001b[0;36mplot_contour\u001b[1;34m(ax, k)\u001b[0m\n\u001b[0;32m     19\u001b[0m \u001b[1;33m\u001b[0m\u001b[0m\n\u001b[0;32m     20\u001b[0m     \u001b[1;31m# Get expected rewards for all parameter combinations\u001b[0m\u001b[1;33m\u001b[0m\u001b[1;33m\u001b[0m\u001b[1;33m\u001b[0m\u001b[0m\n\u001b[1;32m---> 21\u001b[1;33m     \u001b[0mr\u001b[0m \u001b[1;33m=\u001b[0m \u001b[0mexpected_reward\u001b[0m\u001b[1;33m(\u001b[0m\u001b[0mtheta_mu\u001b[0m\u001b[1;33m,\u001b[0m \u001b[0mtheta_sigma\u001b[0m\u001b[1;33m,\u001b[0m \u001b[0mk\u001b[0m\u001b[1;33m)\u001b[0m\u001b[1;33m\u001b[0m\u001b[1;33m\u001b[0m\u001b[0m\n\u001b[0m\u001b[0;32m     22\u001b[0m     \u001b[0max\u001b[0m\u001b[1;33m.\u001b[0m\u001b[0mcontourf\u001b[0m\u001b[1;33m(\u001b[0m\u001b[0mmu_grid\u001b[0m\u001b[1;33m,\u001b[0m \u001b[0msigma_grid\u001b[0m\u001b[1;33m,\u001b[0m \u001b[0mr\u001b[0m\u001b[1;33m,\u001b[0m \u001b[0mlevels\u001b[0m\u001b[1;33m=\u001b[0m\u001b[0mtorch\u001b[0m\u001b[1;33m.\u001b[0m\u001b[0mlinspace\u001b[0m\u001b[1;33m(\u001b[0m\u001b[0mtorch\u001b[0m\u001b[1;33m.\u001b[0m\u001b[0mmin\u001b[0m\u001b[1;33m(\u001b[0m\u001b[0mr\u001b[0m\u001b[1;33m)\u001b[0m\u001b[1;33m,\u001b[0m\u001b[0mtorch\u001b[0m\u001b[1;33m.\u001b[0m\u001b[0mmax\u001b[0m\u001b[1;33m(\u001b[0m\u001b[0mr\u001b[0m\u001b[1;33m)\u001b[0m\u001b[1;33m,\u001b[0m \u001b[0mCONTOUR_LEVELS\u001b[0m\u001b[1;33m)\u001b[0m\u001b[1;33m)\u001b[0m\u001b[1;33m\u001b[0m\u001b[1;33m\u001b[0m\u001b[0m\n",
      "\u001b[1;32m<ipython-input-6-2402f6a385ce>\u001b[0m in \u001b[0;36mexpected_reward\u001b[1;34m(mu_params, sigma_params, k)\u001b[0m\n\u001b[0;32m     30\u001b[0m     \"\"\"\n\u001b[0;32m     31\u001b[0m     \u001b[1;31m# YOUR CODE HERE\u001b[0m\u001b[1;33m\u001b[0m\u001b[1;33m\u001b[0m\u001b[1;33m\u001b[0m\u001b[0m\n\u001b[1;32m---> 32\u001b[1;33m     \u001b[1;32mraise\u001b[0m \u001b[0mNotImplementedError\u001b[0m\u001b[1;33m(\u001b[0m\u001b[1;33m)\u001b[0m\u001b[1;33m\u001b[0m\u001b[1;33m\u001b[0m\u001b[0m\n\u001b[0m",
      "\u001b[1;31mNotImplementedError\u001b[0m: "
     ]
    },
    {
     "data": {
      "image/png": "[encoded data removed]",
      "text/plain": [
       "<Figure size 1152x648 with 1 Axes>"
      ]
     },
     "metadata": {
      "needs_background": "light"
     },
     "output_type": "display_data"
    }
   ],
   "source": [
    "# Create VPG plot\n",
    "fig = plt.figure(figsize=(16, 9))\n",
    "create_plot(fig, plot_npg=False)\n",
    "fig.tight_layout()\n",
    "fig.savefig(\"vpg_plot.pdf\", dpi=400, bbox_inches='tight')"
   ]
  },
  {
   "cell_type": "code",
   "execution_count": null,
   "metadata": {},
   "outputs": [],
   "source": [
    "# Create NPG plot\n",
    "fig = plt.figure(figsize=(16, 9))\n",
    "create_plot(fig, plot_npg=True)\n",
    "fig.tight_layout()\n",
    "fig.savefig(\"npg_plot.pdf\", dpi=400, bbox_inches='tight')"
   ]
  },
  {
   "cell_type": "code",
   "execution_count": null,
   "metadata": {},
   "outputs": [],
   "source": []
  }
 ],
 "metadata": {
  "kernelspec": {
   "display_name": "Python 3",
   "language": "python",
   "name": "python3"
  },
  "language_info": {
   "codemirror_mode": {
    "name": "ipython",
    "version": 3
   },
   "file_extension": ".py",
   "mimetype": "text/x-python",
   "name": "python",
   "nbconvert_exporter": "python",
   "pygments_lexer": "ipython3",
   "version": "3.7.3"
  }
 },
 "nbformat": 4,
 "nbformat_minor": 2
}
